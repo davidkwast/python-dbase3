{
 "cells": [
  {
   "cell_type": "markdown",
   "metadata": {
    "slideshow": {
     "slide_type": "slide"
    }
   },
   "source": [
    "# import dbase3 - justpython3\n",
    "---\n",
    "## https://github.com/davidkwast/python-dbase3\n",
    "---\n",
    "#### https://davidkwast.github.io/slides/just-python-03-Brasil-SP-2019-11-09.html\n",
    "---\n",
    "\n",
    "## David Kwast\n",
    "\n",
    "## https://twitter.com/kwast"
   ]
  },
  {
   "cell_type": "code",
   "execution_count": 1,
   "metadata": {
    "slideshow": {
     "slide_type": "skip"
    }
   },
   "outputs": [],
   "source": [
    "from pathlib import Path\n",
    "import sys\n",
    "sys.path.insert(0, '../../')\n",
    "TEST_PATH = Path('../../tests/')"
   ]
  },
  {
   "cell_type": "markdown",
   "metadata": {
    "slideshow": {
     "slide_type": "slide"
    }
   },
   "source": [
    "```python\n",
    "import sys\n",
    "import os.path\n",
    "import struct\n",
    "import datetime\n",
    "import decimal\n",
    "import io\n",
    "import tempfile\n",
    "```"
   ]
  },
  {
   "cell_type": "code",
   "execution_count": 2,
   "metadata": {
    "slideshow": {
     "slide_type": "slide"
    }
   },
   "outputs": [
    {
     "data": {
      "text/plain": [
       "<module 'dbase3' from '../../dbase3.py'>"
      ]
     },
     "execution_count": 2,
     "metadata": {},
     "output_type": "execute_result"
    }
   ],
   "source": [
    "import dbase3\n",
    "dbase3"
   ]
  },
  {
   "cell_type": "code",
   "execution_count": 3,
   "metadata": {
    "slideshow": {
     "slide_type": "fragment"
    }
   },
   "outputs": [
    {
     "data": {
      "text/plain": [
       "<dbase3.DBase at 0x10f87c7f0>"
      ]
     },
     "execution_count": 3,
     "metadata": {},
     "output_type": "execute_result"
    }
   ],
   "source": [
    "db = dbase3.DBase(TEST_PATH / 'dbf_files/dbase_03.dbf')\n",
    "db"
   ]
  },
  {
   "cell_type": "markdown",
   "metadata": {
    "slideshow": {
     "slide_type": "fragment"
    }
   },
   "source": [
    "![](../images/dbf_libreoffice.png)"
   ]
  },
  {
   "cell_type": "code",
   "execution_count": 4,
   "metadata": {
    "slideshow": {
     "slide_type": "slide"
    }
   },
   "outputs": [
    {
     "data": {
      "text/plain": [
       "Record 0"
      ]
     },
     "execution_count": 4,
     "metadata": {},
     "output_type": "execute_result"
    }
   ],
   "source": [
    "db[0]"
   ]
  },
  {
   "cell_type": "code",
   "execution_count": 5,
   "metadata": {
    "slideshow": {
     "slide_type": "fragment"
    }
   },
   "outputs": [],
   "source": [
    "record = db[0]"
   ]
  },
  {
   "cell_type": "code",
   "execution_count": 6,
   "metadata": {
    "slideshow": {
     "slide_type": "fragment"
    }
   },
   "outputs": [
    {
     "data": {
      "text/plain": [
       "dbase3.Record"
      ]
     },
     "execution_count": 6,
     "metadata": {},
     "output_type": "execute_result"
    }
   ],
   "source": [
    "type(record)"
   ]
  },
  {
   "cell_type": "code",
   "execution_count": 7,
   "metadata": {
    "slideshow": {
     "slide_type": "fragment"
    }
   },
   "outputs": [
    {
     "data": {
      "text/plain": [
       "{'name': b'Point_ID', 'type': b'C', 'length': 12, 'decimal_count': 0}"
      ]
     },
     "execution_count": 7,
     "metadata": {},
     "output_type": "execute_result"
    }
   ],
   "source": [
    "record._fields_data[0]"
   ]
  },
  {
   "cell_type": "code",
   "execution_count": 8,
   "metadata": {
    "slideshow": {
     "slide_type": "fragment"
    }
   },
   "outputs": [
    {
     "data": {
      "text/plain": [
       "'0507121'"
      ]
     },
     "execution_count": 8,
     "metadata": {},
     "output_type": "execute_result"
    }
   ],
   "source": [
    "record._values[0]"
   ]
  },
  {
   "cell_type": "code",
   "execution_count": 9,
   "metadata": {
    "slideshow": {
     "slide_type": "fragment"
    }
   },
   "outputs": [
    {
     "data": {
      "text/plain": [
       "'0507121'"
      ]
     },
     "execution_count": 9,
     "metadata": {},
     "output_type": "execute_result"
    }
   ],
   "source": [
    "record.point_id"
   ]
  },
  {
   "cell_type": "code",
   "execution_count": 10,
   "metadata": {
    "slideshow": {
     "slide_type": "slide"
    }
   },
   "outputs": [
    {
     "data": {
      "text/plain": [
       "{'point_id': '0507121',\n",
       " 'type': 'CMP',\n",
       " 'shape': 'circular',\n",
       " 'circular_d': '12',\n",
       " 'non_circul': '',\n",
       " 'flow_prese': 'no',\n",
       " 'condition': 'Good',\n",
       " 'comments': '',\n",
       " 'date_visit': datetime.date(2005, 7, 12),\n",
       " 'time': '10:56:30am',\n",
       " 'max_pdop': Decimal('5.2'),\n",
       " 'max_hdop': Decimal('2.0'),\n",
       " 'corr_type': 'Postprocessed Code',\n",
       " 'rcvr_type': 'GeoXT',\n",
       " 'gps_date': datetime.date(2005, 7, 12),\n",
       " 'gps_time': '10:56:52am',\n",
       " 'update_sta': 'New',\n",
       " 'feat_name': 'Driveway',\n",
       " 'datafile': '050712TR2819.cor',\n",
       " 'unfilt_pos': 2,\n",
       " 'filt_pos': 2,\n",
       " 'data_dicti': 'MS4',\n",
       " 'gps_week': 1331,\n",
       " 'gps_second': Decimal('226625.000'),\n",
       " 'gps_height': Decimal('1131.323'),\n",
       " 'vert_prec': Decimal('3.1'),\n",
       " 'horz_prec': Decimal('1.3'),\n",
       " 'std_dev': Decimal('0.897088'),\n",
       " 'northing': Decimal('557904.898'),\n",
       " 'easting': Decimal('2212577.192')}"
      ]
     },
     "execution_count": 10,
     "metadata": {},
     "output_type": "execute_result"
    }
   ],
   "source": [
    "record._dict_data"
   ]
  },
  {
   "cell_type": "code",
   "execution_count": 11,
   "metadata": {
    "slideshow": {
     "slide_type": "slide"
    }
   },
   "outputs": [
    {
     "data": {
      "text/plain": [
       "datetime.date(2005, 7, 12)"
      ]
     },
     "execution_count": 11,
     "metadata": {},
     "output_type": "execute_result"
    }
   ],
   "source": [
    "record.gps_date"
   ]
  },
  {
   "cell_type": "code",
   "execution_count": 12,
   "metadata": {
    "slideshow": {
     "slide_type": "fragment"
    }
   },
   "outputs": [
    {
     "data": {
      "text/plain": [
       "1331"
      ]
     },
     "execution_count": 12,
     "metadata": {},
     "output_type": "execute_result"
    }
   ],
   "source": [
    "record.gps_week"
   ]
  },
  {
   "cell_type": "code",
   "execution_count": 13,
   "metadata": {
    "slideshow": {
     "slide_type": "fragment"
    }
   },
   "outputs": [
    {
     "data": {
      "text/plain": [
       "Decimal('0.897088')"
      ]
     },
     "execution_count": 13,
     "metadata": {},
     "output_type": "execute_result"
    }
   ],
   "source": [
    "record.std_dev"
   ]
  },
  {
   "cell_type": "markdown",
   "metadata": {
    "slideshow": {
     "slide_type": "slide"
    }
   },
   "source": [
    "```python\n",
    "class DBase(object):\n",
    "    '''Dbase doc'''\n",
    "    \n",
    "    def __init__(\n",
    "        self, path_or_fd, indexes=None, encoding='ascii',\n",
    "        dont_strip_fields=tuple(), cache_indexes=False, cache_indexes_path='',\n",
    "    ):\n",
    "        '''\n",
    "        indexes: ({column: <column_name>, unique: <true_or_false>}, ...)\n",
    "        '''\n",
    "```\n",
    "    ~ ~ ~ ~\n",
    "```python\n",
    "    # Header Parsing\n",
    "    header = struct.unpack('<4BI2H20x', fd.read(32))\n",
    "    meta = {}\n",
    "    self.meta = meta\n",
    "```\n",
    "    ~ ~ ~ ~\n",
    "```python\n",
    "    # Header Parsing\n",
    "    header = struct.unpack('<4BI2H20x', fd.read(32))\n",
    "    meta = {}\n",
    "    self.meta = meta\n",
    "```\n",
    "    ~ ~ ~ ~"
   ]
  },
  {
   "cell_type": "markdown",
   "metadata": {
    "slideshow": {
     "slide_type": "slide"
    }
   },
   "source": [
    "    ~ ~ ~ ~\n",
    "```python\n",
    "    # Field Descriptor Array Parsing\n",
    "    self.meta['fields'] = []\n",
    "    self.meta['field_dict'] = {}\n",
    "\n",
    "    # 0x0D stored as the Field Descriptor terminator\n",
    "    while fd.read(1) != b'\\x0D':\n",
    "        fd.seek(fd.tell()-1)\n",
    "        raw = struct.unpack('<11scI2B14x', fd.read(32))\n",
    "\n",
    "        data = {}\n",
    "        # field name in ASCII zero-filled\n",
    "        field_name = raw[0].rstrip(b'\\x00')\n",
    "        data['name'] = field_name\n",
    "        # field type in ASCII (C N L D or M)\n",
    "        data['type'] = raw[1]\n",
    "        # field data address, really necessary?\n",
    "        #data['addr'] = raw[2]\n",
    "        # field length in binary\n",
    "        data['length'] = raw[3]\n",
    "        # field decimal count in binary\n",
    "        data['decimal_count'] = raw[4]\n",
    "\n",
    "        if field_name not in self.meta['field_dict']:\n",
    "            self.meta['fields'].append(data)\n",
    "            self.meta['field_dict'][field_name] = data\n",
    "```"
   ]
  },
  {
   "cell_type": "code",
   "execution_count": 14,
   "metadata": {
    "slideshow": {
     "slide_type": "slide"
    }
   },
   "outputs": [
    {
     "name": "stdout",
     "output_type": "stream",
     "text": [
      "0507121 Good 1131.323\n",
      "0507122 Good 1125.142\n",
      "0507123 Good 1127.570\n",
      "0507125 Good 1125.364\n",
      "05071210 Good 1118.605\n",
      "05071216 Good 1117.390\n",
      "05071217 Good 1125.714\n",
      "05071219 Plugged 1110.786\n",
      "05071224 Good 1077.924\n",
      "05071225 Good 1082.990\n",
      "05071229 Good 1096.860\n",
      "05071231 Plugged 1105.113\n",
      "05071232 Plugged 1101.939\n",
      "05071236 Plugged 1125.517\n"
     ]
    }
   ],
   "source": [
    "for rec in db:\n",
    "    print(rec.point_id, rec.condition, rec.gps_height)"
   ]
  },
  {
   "cell_type": "code",
   "execution_count": 15,
   "metadata": {
    "slideshow": {
     "slide_type": "fragment"
    }
   },
   "outputs": [],
   "source": [
    "results = db.find({'condition': 'Plugged'})"
   ]
  },
  {
   "cell_type": "code",
   "execution_count": 16,
   "metadata": {
    "slideshow": {
     "slide_type": "fragment"
    }
   },
   "outputs": [
    {
     "data": {
      "text/plain": [
       "[Record 11, Record 12, Record 13, Record 7]"
      ]
     },
     "execution_count": 16,
     "metadata": {},
     "output_type": "execute_result"
    }
   ],
   "source": [
    "results"
   ]
  },
  {
   "cell_type": "code",
   "execution_count": 17,
   "metadata": {
    "slideshow": {
     "slide_type": "fragment"
    }
   },
   "outputs": [
    {
     "name": "stdout",
     "output_type": "stream",
     "text": [
      "05071231 Plugged 1105.113\n",
      "05071232 Plugged 1101.939\n",
      "05071236 Plugged 1125.517\n",
      "05071219 Plugged 1110.786\n"
     ]
    }
   ],
   "source": [
    "for rec in results:\n",
    "    print(rec.point_id, rec.condition, rec.gps_height)"
   ]
  },
  {
   "cell_type": "code",
   "execution_count": 18,
   "metadata": {
    "slideshow": {
     "slide_type": "slide"
    }
   },
   "outputs": [],
   "source": [
    "db.to_csv(TEST_PATH / 'export' / 'dbase_03.csv')"
   ]
  },
  {
   "cell_type": "markdown",
   "metadata": {
    "slideshow": {
     "slide_type": "fragment"
    }
   },
   "source": [
    "```csv\n",
    "b'point_id',b'type',b'shape',b'circular_d',b'non_circul',b'flow_prese',b'condition',b'comments',b'date_visit',b'time',b'max_pdop',b'max_hdop',b'corr_type',b'rcvr_type',b'gps_date',b'gps_time',b'update_sta',b'feat_name',b'datafile',b'unfilt_pos',b'filt_pos',b'data_dicti',b'gps_week',b'gps_second',b'gps_height',b'vert_prec',b'horz_prec',b'std_dev',b'northing',b'easting'\n",
    "b'0507121',b'CMP',b'circular',b'12',b'',b'no',b'Good',b'',b'2005-07-12',b'10:56:30am',b'5.2',b'2.0',b'Postprocessed Code',b'GeoXT',b'2005-07-12',b'10:56:52am',b'New',b'Driveway',b'050712TR2819.cor',b'2',b'2',b'MS4',b'1331',b'226625.000',b'1131.323',b'3.1',b'1.3',b'0.897088',b'557904.898',b'2212577.192'\n",
    "b'0507122',b'CMP',b'circular',b'12',b'',b'no',b'Good',b'',b'2005-07-12',b'10:57:34am',b'4.9',b'2.0',b'Postprocessed Code',b'GeoXT',b'2005-07-12',b'10:57:37am',b'New',b'Driveway',b'050712TR2819.cor',b'1',b'1',b'MS4',b'1331',b'226670.000',b'1125.142',b'2.8',b'1.3',b'None',b'557997.831',b'2212576.868'\n",
    "b'0507123',b'CMP',b'circular',b'12',b'',b'no',b'Good',b'',b'2005-07-12',b'10:59:03am',b'5.4',b'4.4',b'Postprocessed Code',b'GeoXT',b'2005-07-12',b'10:59:12am',b'New',b'Driveway',b'050712TR2819.cor',b'1',b'1',b'MS4',b'1331',b'226765.000',b'1127.570',b'2.2',b'3.5',b'None',b'558184.757',b'2212571.349'\n",
    "b'0507125',b'CMP',b'circular',b'12',b'',b'no',b'Good',b'',b'2005-07-12',b'11:02:43am',b'3.4',b'1.5',b'Postprocessed Code',b'GeoXT',b'2005-07-12',b'11:03:12am',b'New',b'Driveway',b'050712TR2819.cor',b'1',b'1',b'MS4',b'1331',b'227005.000',b'1125.364',b'3.2',b'1.6',b'None',b'558703.723',b'2212562.547'\n",
    "b'05071210',b'CMP',b'circular',b'15',b'',b'no',b'Good',b'',b'2005-07-12',b'11:15:20am',b'3.7',b'2.2',b'Postprocessed Code',b'GeoXT',b'2005-07-12',b'11:14:52am',b'New',b'Driveway',b'050712TR2819.cor',b'1',b'1',b'MS4',b'1331',b'227705.000',b'1118.605',b'1.8',b'2.1',b'None',b'558945.763',b'2212739.979'\n",
    "b'05071216',b'CMP',b'circular',b'12',b'',b'no',b'Good',b'',b'2005-07-12',b'12:13:23pm',b'4.4',b'1.8',b'Postprocessed Code',b'GeoXT',b'2005-07-12',b'12:13:57pm',b'New',b'Driveway',b'050712TR2819.cor',b'1',b'1',b'MS4',b'1331',b'231250.000',b'1117.390',b'3.1',b'1.2',b'None',b'559024.234',b'2212856.927'\n",
    "b'05071217',b'CMP',b'circular',b'12',b'',b'no',b'Good',b'',b'2005-07-12',b'12:16:46pm',b'4.4',b'1.8',b'Postprocessed Code',b'GeoXT',b'2005-07-12',b'12:17:12pm',b'New',b'Driveway',b'050712TR2819.cor',b'1',b'1',b'MS4',b'1331',b'231445.000',b'1125.714',b'3.2',b'1.3',b'None',b'559342.534',b'2213340.161'\n",
    "b'05071219',b'CMP',b'circular',b'12',b'',b'no',b'Plugged',b'',b'2005-07-12',b'12:22:55pm',b'4.4',b'1.8',b'Postprocessed Code',b'GeoXT',b'2005-07-12',b'12:22:22pm',b'New',b'Driveway',b'050712TR2819.cor',b'1',b'1',b'MS4',b'1331',b'231755.000',b'1110.786',b'2.5',b'1.1',b'None',b'559578.776',b'2213560.247'\n",
    "b'05071224',b'CMP',b'circular',b'12',b'',b'no',b'Good',b'',b'2005-07-12',b'12:37:17pm',b'4.1',b'1.7',b'Postprocessed Code',b'GeoXT',b'2005-07-12',b'12:38:32pm',b'New',b'Driveway',b'050712TR2819.cor',b'1',b'1',b'MS4',b'1331',b'232725.000',b'1077.924',b'2.8',b'1.4',b'None',b'560582.575',b'2213759.022'\n",
    "b'05071225',b'CMP',b'circular',b'12',b'',b'no',b'Good',b'',b'2005-07-12',b'12:39:48pm',b'4.0',b'1.7',b'Postprocessed Code',b'GeoXT',b'2005-07-12',b'12:39:52pm',b'New',b'Driveway',b'050712TR2819.cor',b'1',b'1',b'MS4',b'1331',b'232805.000',b'1082.990',b'2.0',b'1.0',b'None',b'560678.501',b'2213716.657'\n",
    "b'05071229',b'CMP',b'circular',b'12',b'',b'no',b'Good',b'',b'2005-07-12',b'12:49:05pm',b'3.7',b'1.7',b'Postprocessed Code',b'GeoXT',b'2005-07-12',b'12:49:07pm',b'New',b'Driveway',b'050712TR2819.cor',b'1',b'1',b'MS4',b'1331',b'233360.000',b'1096.860',b'2.4',b'1.2',b'None',b'560126.094',b'2213720.301'\n",
    "b'05071231',b'CMP',b'circular',b'12',b'',b'no',b'Plugged',b'',b'2005-07-12',b'12:53:58pm',b'3.0',b'1.6',b'Postprocessed Code',b'GeoXT',b'2005-07-12',b'12:54:02pm',b'New',b'Driveway',b'050712TR2819.cor',b'1',b'1',b'MS4',b'1331',b'233655.000',b'1105.113',b'1.8',b'1.1',b'None',b'559952.331',b'2213689.001'\n",
    "b'05071232',b'CMP',b'circular',b'12',b'',b'no',b'Plugged',b'',b'2005-07-12',b'12:55:47pm',b'3.5',b'1.7',b'Postprocessed Code',b'GeoXT',b'2005-07-12',b'12:55:47pm',b'New',b'Driveway',b'050712TR2819.cor',b'2',b'2',b'MS4',b'1331',b'233760.000',b'1101.939',b'2.1',b'1.1',b'1.223112',b'559870.352',b'2213661.918'\n",
    "b'05071236',b'CMP',b'circular',b'12',b'',b'no',b'Plugged',b'',b'2005-07-12',b'01:08:40pm',b'3.3',b'1.6',b'Postprocessed Code',b'GeoXT',b'2005-07-12',b'01:08:42pm',b'New',b'Driveway',b'050712TR2819.cor',b'1',b'1',b'MS4',b'1331',b'234535.000',b'1125.517',b'1.8',b'1.2',b'None',b'559195.031',b'2213046.199'\n",
    "\n",
    "```"
   ]
  },
  {
   "cell_type": "code",
   "execution_count": 19,
   "metadata": {
    "slideshow": {
     "slide_type": "slide"
    }
   },
   "outputs": [],
   "source": [
    "db.to_sql(TEST_PATH / 'export' / 'dbase_03.sql', 'dbase03table')"
   ]
  },
  {
   "cell_type": "markdown",
   "metadata": {
    "slideshow": {
     "slide_type": "fragment"
    }
   },
   "source": [
    "```sql\n",
    "BEGIN;\n",
    "\n",
    "CREATE TABLE dbase03table (\n",
    "\tid INTEGER PRIMARY KEY,\n",
    "\tpoint_id TEXT,\n",
    "\ttype TEXT,\n",
    "\tshape TEXT,\n",
    "\tcircular_d TEXT,\n",
    "\tnon_circul TEXT,\n",
    "\tflow_prese TEXT,\n",
    "\tcondition TEXT,\n",
    "\tcomments TEXT,\n",
    "\tdate_visit DATE,\n",
    "\ttime TEXT,\n",
    "\tmax_pdop DECIMAL(10, 5),\n",
    "\tmax_hdop DECIMAL(10, 5),\n",
    "\tcorr_type TEXT,\n",
    "\trcvr_type TEXT,\n",
    "\tgps_date DATE,\n",
    "\tgps_time TEXT,\n",
    "\tupdate_sta TEXT,\n",
    "\tfeat_name TEXT,\n",
    "\tdatafile TEXT,\n",
    "\tunfilt_pos DECIMAL(20, 10),\n",
    "\tfilt_pos DECIMAL(20, 10),\n",
    "\tdata_dicti TEXT,\n",
    "\tgps_week DECIMAL(12, 6),\n",
    "\tgps_second DECIMAL(24, 12),\n",
    "\tgps_height DECIMAL(32, 16),\n",
    "\tvert_prec DECIMAL(32, 16),\n",
    "\thorz_prec DECIMAL(32, 16),\n",
    "\tstd_dev DECIMAL(32, 16),\n",
    "\tnorthing DECIMAL(32, 16),\n",
    "\teasting DECIMAL(32, 16)\n",
    ");\n",
    "```"
   ]
  },
  {
   "cell_type": "markdown",
   "metadata": {},
   "source": [
    "```sql\n",
    "INSERT INTO dbase03table VALUES (0,'0507121','CMP','circular','12','','no','Good','','2005-07-12','10:56:30am',5.2,2.0,'Postprocessed Code','GeoXT','2005-07-12','10:56:52am','New','Driveway','050712TR2819.cor',2,2,'MS4',1331,226625.000,1131.323,3.1,1.3,0.897088,557904.898,2212577.192);\n",
    "INSERT INTO dbase03table VALUES (1,'0507122','CMP','circular','12','','no','Good','','2005-07-12','10:57:34am',4.9,2.0,'Postprocessed Code','GeoXT','2005-07-12','10:57:37am','New','Driveway','050712TR2819.cor',1,1,'MS4',1331,226670.000,1125.142,2.8,1.3,NULL,557997.831,2212576.868);\n",
    "INSERT INTO dbase03table VALUES (2,'0507123','CMP','circular','12','','no','Good','','2005-07-12','10:59:03am',5.4,4.4,'Postprocessed Code','GeoXT','2005-07-12','10:59:12am','New','Driveway','050712TR2819.cor',1,1,'MS4',1331,226765.000,1127.570,2.2,3.5,NULL,558184.757,2212571.349);\n",
    "INSERT INTO dbase03table VALUES (3,'0507125','CMP','circular','12','','no','Good','','2005-07-12','11:02:43am',3.4,1.5,'Postprocessed Code','GeoXT','2005-07-12','11:03:12am','New','Driveway','050712TR2819.cor',1,1,'MS4',1331,227005.000,1125.364,3.2,1.6,NULL,558703.723,2212562.547);\n",
    "INSERT INTO dbase03table VALUES (4,'05071210','CMP','circular','15','','no','Good','','2005-07-12','11:15:20am',3.7,2.2,'Postprocessed Code','GeoXT','2005-07-12','11:14:52am','New','Driveway','050712TR2819.cor',1,1,'MS4',1331,227705.000,1118.605,1.8,2.1,NULL,558945.763,2212739.979);\n",
    "INSERT INTO dbase03table VALUES (5,'05071216','CMP','circular','12','','no','Good','','2005-07-12','12:13:23pm',4.4,1.8,'Postprocessed Code','GeoXT','2005-07-12','12:13:57pm','New','Driveway','050712TR2819.cor',1,1,'MS4',1331,231250.000,1117.390,3.1,1.2,NULL,559024.234,2212856.927);\n",
    "INSERT INTO dbase03table VALUES (6,'05071217','CMP','circular','12','','no','Good','','2005-07-12','12:16:46pm',4.4,1.8,'Postprocessed Code','GeoXT','2005-07-12','12:17:12pm','New','Driveway','050712TR2819.cor',1,1,'MS4',1331,231445.000,1125.714,3.2,1.3,NULL,559342.534,2213340.161);\n",
    "INSERT INTO dbase03table VALUES (7,'05071219','CMP','circular','12','','no','Plugged','','2005-07-12','12:22:55pm',4.4,1.8,'Postprocessed Code','GeoXT','2005-07-12','12:22:22pm','New','Driveway','050712TR2819.cor',1,1,'MS4',1331,231755.000,1110.786,2.5,1.1,NULL,559578.776,2213560.247);\n",
    "INSERT INTO dbase03table VALUES (8,'05071224','CMP','circular','12','','no','Good','','2005-07-12','12:37:17pm',4.1,1.7,'Postprocessed Code','GeoXT','2005-07-12','12:38:32pm','New','Driveway','050712TR2819.cor',1,1,'MS4',1331,232725.000,1077.924,2.8,1.4,NULL,560582.575,2213759.022);\n",
    "INSERT INTO dbase03table VALUES (9,'05071225','CMP','circular','12','','no','Good','','2005-07-12','12:39:48pm',4.0,1.7,'Postprocessed Code','GeoXT','2005-07-12','12:39:52pm','New','Driveway','050712TR2819.cor',1,1,'MS4',1331,232805.000,1082.990,2.0,1.0,NULL,560678.501,2213716.657);\n",
    "INSERT INTO dbase03table VALUES (10,'05071229','CMP','circular','12','','no','Good','','2005-07-12','12:49:05pm',3.7,1.7,'Postprocessed Code','GeoXT','2005-07-12','12:49:07pm','New','Driveway','050712TR2819.cor',1,1,'MS4',1331,233360.000,1096.860,2.4,1.2,NULL,560126.094,2213720.301);\n",
    "INSERT INTO dbase03table VALUES (11,'05071231','CMP','circular','12','','no','Plugged','','2005-07-12','12:53:58pm',3.0,1.6,'Postprocessed Code','GeoXT','2005-07-12','12:54:02pm','New','Driveway','050712TR2819.cor',1,1,'MS4',1331,233655.000,1105.113,1.8,1.1,NULL,559952.331,2213689.001);\n",
    "INSERT INTO dbase03table VALUES (12,'05071232','CMP','circular','12','','no','Plugged','','2005-07-12','12:55:47pm',3.5,1.7,'Postprocessed Code','GeoXT','2005-07-12','12:55:47pm','New','Driveway','050712TR2819.cor',2,2,'MS4',1331,233760.000,1101.939,2.1,1.1,1.223112,559870.352,2213661.918);\n",
    "INSERT INTO dbase03table VALUES (13,'05071236','CMP','circular','12','','no','Plugged','','2005-07-12','01:08:40pm',3.3,1.6,'Postprocessed Code','GeoXT','2005-07-12','01:08:42pm','New','Driveway','050712TR2819.cor',1,1,'MS4',1331,234535.000,1125.517,1.8,1.2,NULL,559195.031,2213046.199);\n",
    "\n",
    "COMMIT;\n",
    "```"
   ]
  },
  {
   "cell_type": "markdown",
   "metadata": {
    "slideshow": {
     "slide_type": "slide"
    }
   },
   "source": [
    "```console\n",
    "$ python dbase3.py \n",
    "Usage: dbase3.py [to_csv|to_sql]\n",
    "\n",
    "$ python dbase3.py to_sql\n",
    "Usage: dbase3.py < db file >  < db encoding >  < out file >\n",
    "\n",
    "$ python dbase3.py to_csv\n",
    "Usage: dbase3.py < db file >  < db encoding >  < out file >\n",
    "```"
   ]
  }
 ],
 "metadata": {
  "celltoolbar": "Slideshow",
  "hide_input": false,
  "kernelspec": {
   "display_name": "Python 3",
   "language": "python",
   "name": "python3"
  },
  "language_info": {
   "codemirror_mode": {
    "name": "ipython",
    "version": 3
   },
   "file_extension": ".py",
   "mimetype": "text/x-python",
   "name": "python",
   "nbconvert_exporter": "python",
   "pygments_lexer": "ipython3",
   "version": "3.7.3"
  }
 },
 "nbformat": 4,
 "nbformat_minor": 2
}
